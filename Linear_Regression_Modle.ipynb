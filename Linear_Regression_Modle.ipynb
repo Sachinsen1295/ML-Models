{
  "nbformat": 4,
  "nbformat_minor": 0,
  "metadata": {
    "colab": {
      "name": "Linear Regression Modle.ipynb",
      "provenance": [],
      "collapsed_sections": [],
      "authorship_tag": "ABX9TyMyfswnkjeefK+kbScfTjOH",
      "include_colab_link": true
    },
    "kernelspec": {
      "name": "python3",
      "display_name": "Python 3"
    },
    "language_info": {
      "name": "python"
    }
  },
  "cells": [
    {
      "cell_type": "markdown",
      "metadata": {
        "id": "view-in-github",
        "colab_type": "text"
      },
      "source": [
        "<a href=\"https://colab.research.google.com/github/Sachinsen1295/ML-Models/blob/main/Linear_Regression_Modle.ipynb\" target=\"_parent\"><img src=\"https://colab.research.google.com/assets/colab-badge.svg\" alt=\"Open In Colab\"/></a>"
      ]
    },
    {
      "cell_type": "markdown",
      "source": [
        "# **Predict the Price of Banglore House**"
      ],
      "metadata": {
        "id": "wAjh8B5dzKpz"
      }
    },
    {
      "cell_type": "markdown",
      "source": [
        "Using Linear Regression - Supervised Machine Learning Algorithm"
      ],
      "metadata": {
        "id": "98hZJwbNzcAX"
      }
    },
    {
      "cell_type": "markdown",
      "source": [
        "###Load Libraries"
      ],
      "metadata": {
        "id": "A_9hy8uZzuoD"
      }
    },
    {
      "cell_type": "code",
      "execution_count": null,
      "metadata": {
        "id": "kpsRTJC1zGF8"
      },
      "outputs": [],
      "source": [
        "\n",
        "import pandas as pd\n",
        "from sklearn.model_selection import train_test_split"
      ]
    },
    {
      "cell_type": "markdown",
      "source": [
        "###Load DataSet"
      ],
      "metadata": {
        "id": "abKGHUJZz2eZ"
      }
    },
    {
      "cell_type": "code",
      "source": [
        "from google.colab import drive"
      ],
      "metadata": {
        "id": "dVChrFOpz1kC"
      },
      "execution_count": null,
      "outputs": []
    },
    {
      "cell_type": "code",
      "source": [
        "drive.mount(\"/content/drive\")"
      ],
      "metadata": {
        "colab": {
          "base_uri": "https://localhost:8080/"
        },
        "id": "z3I1oTe40jwl",
        "outputId": "2f531e47-1c69-4122-9498-94c5e8b3afcf"
      },
      "execution_count": null,
      "outputs": [
        {
          "output_type": "stream",
          "name": "stdout",
          "text": [
            "Mounted at /content/drive\n"
          ]
        }
      ]
    },
    {
      "cell_type": "code",
      "source": [
        "df= pd.read_csv(r\"/content/drive/MyDrive/Colab Notebooks/ML Module/Data For Model/bangalore house price prediction OHE-data.csv\")\n",
        "df.head()"
      ],
      "metadata": {
        "colab": {
          "base_uri": "https://localhost:8080/",
          "height": 317
        },
        "id": "bdKn_aMK0oQB",
        "outputId": "e67ab4e7-3a41-45c1-cb46-61e65280fd6d"
      },
      "execution_count": null,
      "outputs": [
        {
          "output_type": "execute_result",
          "data": {
            "text/plain": [
              "   bath  balcony  price  total_sqft_int  bhk  price_per_sqft  \\\n",
              "0   3.0      2.0  150.0          1672.0    3     8971.291866   \n",
              "1   3.0      3.0  149.0          1750.0    3     8514.285714   \n",
              "2   3.0      2.0  150.0          1750.0    3     8571.428571   \n",
              "3   2.0      2.0   40.0          1250.0    2     3200.000000   \n",
              "4   2.0      2.0   83.0          1200.0    2     6916.666667   \n",
              "\n",
              "   area_typeSuper built-up  Area  area_typeBuilt-up  Area  \\\n",
              "0                              1                        0   \n",
              "1                              0                        1   \n",
              "2                              1                        0   \n",
              "3                              1                        0   \n",
              "4                              0                        0   \n",
              "\n",
              "   area_typePlot  Area  availability_Ready To Move  ...  \\\n",
              "0                    0                           1  ...   \n",
              "1                    0                           1  ...   \n",
              "2                    0                           1  ...   \n",
              "3                    0                           1  ...   \n",
              "4                    1                           1  ...   \n",
              "\n",
              "   location_Kalena Agrahara  location_Horamavu Agara  location_Vidyaranyapura  \\\n",
              "0                         0                        0                        0   \n",
              "1                         0                        0                        0   \n",
              "2                         0                        0                        0   \n",
              "3                         0                        0                        0   \n",
              "4                         0                        0                        0   \n",
              "\n",
              "   location_BTM 2nd Stage  location_Hebbal Kempapura  location_Hosur Road  \\\n",
              "0                       0                          0                    0   \n",
              "1                       0                          0                    0   \n",
              "2                       0                          0                    0   \n",
              "3                       0                          0                    0   \n",
              "4                       0                          0                    0   \n",
              "\n",
              "   location_Horamavu Banaswadi  location_Domlur  location_Mahadevpura  \\\n",
              "0                            0                0                     0   \n",
              "1                            0                0                     0   \n",
              "2                            0                0                     0   \n",
              "3                            0                0                     0   \n",
              "4                            0                0                     0   \n",
              "\n",
              "   location_Tumkur Road  \n",
              "0                     0  \n",
              "1                     0  \n",
              "2                     0  \n",
              "3                     0  \n",
              "4                     0  \n",
              "\n",
              "[5 rows x 108 columns]"
            ],
            "text/html": [
              "\n",
              "  <div id=\"df-c4e33ad3-a837-4cd0-b540-6b7fff5fa4f7\">\n",
              "    <div class=\"colab-df-container\">\n",
              "      <div>\n",
              "<style scoped>\n",
              "    .dataframe tbody tr th:only-of-type {\n",
              "        vertical-align: middle;\n",
              "    }\n",
              "\n",
              "    .dataframe tbody tr th {\n",
              "        vertical-align: top;\n",
              "    }\n",
              "\n",
              "    .dataframe thead th {\n",
              "        text-align: right;\n",
              "    }\n",
              "</style>\n",
              "<table border=\"1\" class=\"dataframe\">\n",
              "  <thead>\n",
              "    <tr style=\"text-align: right;\">\n",
              "      <th></th>\n",
              "      <th>bath</th>\n",
              "      <th>balcony</th>\n",
              "      <th>price</th>\n",
              "      <th>total_sqft_int</th>\n",
              "      <th>bhk</th>\n",
              "      <th>price_per_sqft</th>\n",
              "      <th>area_typeSuper built-up  Area</th>\n",
              "      <th>area_typeBuilt-up  Area</th>\n",
              "      <th>area_typePlot  Area</th>\n",
              "      <th>availability_Ready To Move</th>\n",
              "      <th>...</th>\n",
              "      <th>location_Kalena Agrahara</th>\n",
              "      <th>location_Horamavu Agara</th>\n",
              "      <th>location_Vidyaranyapura</th>\n",
              "      <th>location_BTM 2nd Stage</th>\n",
              "      <th>location_Hebbal Kempapura</th>\n",
              "      <th>location_Hosur Road</th>\n",
              "      <th>location_Horamavu Banaswadi</th>\n",
              "      <th>location_Domlur</th>\n",
              "      <th>location_Mahadevpura</th>\n",
              "      <th>location_Tumkur Road</th>\n",
              "    </tr>\n",
              "  </thead>\n",
              "  <tbody>\n",
              "    <tr>\n",
              "      <th>0</th>\n",
              "      <td>3.0</td>\n",
              "      <td>2.0</td>\n",
              "      <td>150.0</td>\n",
              "      <td>1672.0</td>\n",
              "      <td>3</td>\n",
              "      <td>8971.291866</td>\n",
              "      <td>1</td>\n",
              "      <td>0</td>\n",
              "      <td>0</td>\n",
              "      <td>1</td>\n",
              "      <td>...</td>\n",
              "      <td>0</td>\n",
              "      <td>0</td>\n",
              "      <td>0</td>\n",
              "      <td>0</td>\n",
              "      <td>0</td>\n",
              "      <td>0</td>\n",
              "      <td>0</td>\n",
              "      <td>0</td>\n",
              "      <td>0</td>\n",
              "      <td>0</td>\n",
              "    </tr>\n",
              "    <tr>\n",
              "      <th>1</th>\n",
              "      <td>3.0</td>\n",
              "      <td>3.0</td>\n",
              "      <td>149.0</td>\n",
              "      <td>1750.0</td>\n",
              "      <td>3</td>\n",
              "      <td>8514.285714</td>\n",
              "      <td>0</td>\n",
              "      <td>1</td>\n",
              "      <td>0</td>\n",
              "      <td>1</td>\n",
              "      <td>...</td>\n",
              "      <td>0</td>\n",
              "      <td>0</td>\n",
              "      <td>0</td>\n",
              "      <td>0</td>\n",
              "      <td>0</td>\n",
              "      <td>0</td>\n",
              "      <td>0</td>\n",
              "      <td>0</td>\n",
              "      <td>0</td>\n",
              "      <td>0</td>\n",
              "    </tr>\n",
              "    <tr>\n",
              "      <th>2</th>\n",
              "      <td>3.0</td>\n",
              "      <td>2.0</td>\n",
              "      <td>150.0</td>\n",
              "      <td>1750.0</td>\n",
              "      <td>3</td>\n",
              "      <td>8571.428571</td>\n",
              "      <td>1</td>\n",
              "      <td>0</td>\n",
              "      <td>0</td>\n",
              "      <td>1</td>\n",
              "      <td>...</td>\n",
              "      <td>0</td>\n",
              "      <td>0</td>\n",
              "      <td>0</td>\n",
              "      <td>0</td>\n",
              "      <td>0</td>\n",
              "      <td>0</td>\n",
              "      <td>0</td>\n",
              "      <td>0</td>\n",
              "      <td>0</td>\n",
              "      <td>0</td>\n",
              "    </tr>\n",
              "    <tr>\n",
              "      <th>3</th>\n",
              "      <td>2.0</td>\n",
              "      <td>2.0</td>\n",
              "      <td>40.0</td>\n",
              "      <td>1250.0</td>\n",
              "      <td>2</td>\n",
              "      <td>3200.000000</td>\n",
              "      <td>1</td>\n",
              "      <td>0</td>\n",
              "      <td>0</td>\n",
              "      <td>1</td>\n",
              "      <td>...</td>\n",
              "      <td>0</td>\n",
              "      <td>0</td>\n",
              "      <td>0</td>\n",
              "      <td>0</td>\n",
              "      <td>0</td>\n",
              "      <td>0</td>\n",
              "      <td>0</td>\n",
              "      <td>0</td>\n",
              "      <td>0</td>\n",
              "      <td>0</td>\n",
              "    </tr>\n",
              "    <tr>\n",
              "      <th>4</th>\n",
              "      <td>2.0</td>\n",
              "      <td>2.0</td>\n",
              "      <td>83.0</td>\n",
              "      <td>1200.0</td>\n",
              "      <td>2</td>\n",
              "      <td>6916.666667</td>\n",
              "      <td>0</td>\n",
              "      <td>0</td>\n",
              "      <td>1</td>\n",
              "      <td>1</td>\n",
              "      <td>...</td>\n",
              "      <td>0</td>\n",
              "      <td>0</td>\n",
              "      <td>0</td>\n",
              "      <td>0</td>\n",
              "      <td>0</td>\n",
              "      <td>0</td>\n",
              "      <td>0</td>\n",
              "      <td>0</td>\n",
              "      <td>0</td>\n",
              "      <td>0</td>\n",
              "    </tr>\n",
              "  </tbody>\n",
              "</table>\n",
              "<p>5 rows × 108 columns</p>\n",
              "</div>\n",
              "      <button class=\"colab-df-convert\" onclick=\"convertToInteractive('df-c4e33ad3-a837-4cd0-b540-6b7fff5fa4f7')\"\n",
              "              title=\"Convert this dataframe to an interactive table.\"\n",
              "              style=\"display:none;\">\n",
              "        \n",
              "  <svg xmlns=\"http://www.w3.org/2000/svg\" height=\"24px\"viewBox=\"0 0 24 24\"\n",
              "       width=\"24px\">\n",
              "    <path d=\"M0 0h24v24H0V0z\" fill=\"none\"/>\n",
              "    <path d=\"M18.56 5.44l.94 2.06.94-2.06 2.06-.94-2.06-.94-.94-2.06-.94 2.06-2.06.94zm-11 1L8.5 8.5l.94-2.06 2.06-.94-2.06-.94L8.5 2.5l-.94 2.06-2.06.94zm10 10l.94 2.06.94-2.06 2.06-.94-2.06-.94-.94-2.06-.94 2.06-2.06.94z\"/><path d=\"M17.41 7.96l-1.37-1.37c-.4-.4-.92-.59-1.43-.59-.52 0-1.04.2-1.43.59L10.3 9.45l-7.72 7.72c-.78.78-.78 2.05 0 2.83L4 21.41c.39.39.9.59 1.41.59.51 0 1.02-.2 1.41-.59l7.78-7.78 2.81-2.81c.8-.78.8-2.07 0-2.86zM5.41 20L4 18.59l7.72-7.72 1.47 1.35L5.41 20z\"/>\n",
              "  </svg>\n",
              "      </button>\n",
              "      \n",
              "  <style>\n",
              "    .colab-df-container {\n",
              "      display:flex;\n",
              "      flex-wrap:wrap;\n",
              "      gap: 12px;\n",
              "    }\n",
              "\n",
              "    .colab-df-convert {\n",
              "      background-color: #E8F0FE;\n",
              "      border: none;\n",
              "      border-radius: 50%;\n",
              "      cursor: pointer;\n",
              "      display: none;\n",
              "      fill: #1967D2;\n",
              "      height: 32px;\n",
              "      padding: 0 0 0 0;\n",
              "      width: 32px;\n",
              "    }\n",
              "\n",
              "    .colab-df-convert:hover {\n",
              "      background-color: #E2EBFA;\n",
              "      box-shadow: 0px 1px 2px rgba(60, 64, 67, 0.3), 0px 1px 3px 1px rgba(60, 64, 67, 0.15);\n",
              "      fill: #174EA6;\n",
              "    }\n",
              "\n",
              "    [theme=dark] .colab-df-convert {\n",
              "      background-color: #3B4455;\n",
              "      fill: #D2E3FC;\n",
              "    }\n",
              "\n",
              "    [theme=dark] .colab-df-convert:hover {\n",
              "      background-color: #434B5C;\n",
              "      box-shadow: 0px 1px 3px 1px rgba(0, 0, 0, 0.15);\n",
              "      filter: drop-shadow(0px 1px 2px rgba(0, 0, 0, 0.3));\n",
              "      fill: #FFFFFF;\n",
              "    }\n",
              "  </style>\n",
              "\n",
              "      <script>\n",
              "        const buttonEl =\n",
              "          document.querySelector('#df-c4e33ad3-a837-4cd0-b540-6b7fff5fa4f7 button.colab-df-convert');\n",
              "        buttonEl.style.display =\n",
              "          google.colab.kernel.accessAllowed ? 'block' : 'none';\n",
              "\n",
              "        async function convertToInteractive(key) {\n",
              "          const element = document.querySelector('#df-c4e33ad3-a837-4cd0-b540-6b7fff5fa4f7');\n",
              "          const dataTable =\n",
              "            await google.colab.kernel.invokeFunction('convertToInteractive',\n",
              "                                                     [key], {});\n",
              "          if (!dataTable) return;\n",
              "\n",
              "          const docLinkHtml = 'Like what you see? Visit the ' +\n",
              "            '<a target=\"_blank\" href=https://colab.research.google.com/notebooks/data_table.ipynb>data table notebook</a>'\n",
              "            + ' to learn more about interactive tables.';\n",
              "          element.innerHTML = '';\n",
              "          dataTable['output_type'] = 'display_data';\n",
              "          await google.colab.output.renderOutput(dataTable, element);\n",
              "          const docLink = document.createElement('div');\n",
              "          docLink.innerHTML = docLinkHtml;\n",
              "          element.appendChild(docLink);\n",
              "        }\n",
              "      </script>\n",
              "    </div>\n",
              "  </div>\n",
              "  "
            ]
          },
          "metadata": {},
          "execution_count": 4
        }
      ]
    },
    {
      "cell_type": "code",
      "source": [
        "pd.set_option('display.max_columns', None)\n",
        "pd.set_option('display.max_rows', None)"
      ],
      "metadata": {
        "id": "l68zZZFQ7D0z"
      },
      "execution_count": null,
      "outputs": []
    },
    {
      "cell_type": "markdown",
      "source": [
        "##Split Data"
      ],
      "metadata": {
        "id": "kL8PYH_a7_Nh"
      }
    },
    {
      "cell_type": "code",
      "source": [
        "X= df.drop('price', axis=1)\n",
        "Y= df['price']\n",
        "\n",
        "print('shape of X=', X.shape)\n",
        "print('shape of Y = ' ,Y.shape)"
      ],
      "metadata": {
        "colab": {
          "base_uri": "https://localhost:8080/"
        },
        "id": "Sn8I-xUl7Ri1",
        "outputId": "8df32ec1-a9c1-45b6-e1c3-6603d666fa10"
      },
      "execution_count": null,
      "outputs": [
        {
          "output_type": "stream",
          "name": "stdout",
          "text": [
            "shape of X= (7120, 107)\n",
            "shape of Y =  (7120,)\n"
          ]
        }
      ]
    },
    {
      "cell_type": "code",
      "source": [
        "X_train, X_test, Y_train , Y_test = train_test_split(X,Y, test_size=0.2 ,  random_state=51)\n",
        "\n",
        "print('shape of X=', X_train.shape)\n",
        "print('shape of Y = ' ,Y_train.shape)\n",
        "print('shape of X=', X_test.shape)\n",
        "print('shape of Y = ' ,Y_test.shape)"
      ],
      "metadata": {
        "colab": {
          "base_uri": "https://localhost:8080/"
        },
        "id": "f-wvh-z18YN5",
        "outputId": "2a65f3c8-a69e-47c7-c553-b93037a38292"
      },
      "execution_count": null,
      "outputs": [
        {
          "output_type": "stream",
          "name": "stdout",
          "text": [
            "shape of X= (5696, 107)\n",
            "shape of Y =  (5696,)\n",
            "shape of X= (1424, 107)\n",
            "shape of Y =  (1424,)\n"
          ]
        }
      ]
    },
    {
      "cell_type": "markdown",
      "source": [
        "# Feature Scaling"
      ],
      "metadata": {
        "id": "Ux1cpSgj-U_A"
      }
    },
    {
      "cell_type": "code",
      "source": [
        "from sklearn.preprocessing import StandardScaler"
      ],
      "metadata": {
        "id": "0ftpnkfL9JzD"
      },
      "execution_count": null,
      "outputs": []
    },
    {
      "cell_type": "code",
      "source": [
        "sc= StandardScaler()\n",
        "sc.fit(X_train)\n",
        "X_train = sc.transform(X_train)\n",
        "X_test = sc.transform(X_test)"
      ],
      "metadata": {
        "id": "KqvzeVto-f4O"
      },
      "execution_count": null,
      "outputs": []
    },
    {
      "cell_type": "markdown",
      "source": [
        "# Linear Regression - ML model trainning\n"
      ],
      "metadata": {
        "id": "JlzU6Xlo-5te"
      }
    },
    {
      "cell_type": "code",
      "source": [
        "from sklearn.linear_model import LinearRegression\n",
        "lr = LinearRegression()"
      ],
      "metadata": {
        "id": "uXx9fKU4-0Uy"
      },
      "execution_count": null,
      "outputs": []
    },
    {
      "cell_type": "code",
      "source": [
        "lr.fit(X_train,Y_train)"
      ],
      "metadata": {
        "colab": {
          "base_uri": "https://localhost:8080/"
        },
        "id": "49MoBIeA_5qt",
        "outputId": "f80896c7-165a-4e9b-f507-bdaa606a4abd"
      },
      "execution_count": null,
      "outputs": [
        {
          "output_type": "execute_result",
          "data": {
            "text/plain": [
              "LinearRegression()"
            ]
          },
          "metadata": {},
          "execution_count": 11
        }
      ]
    },
    {
      "cell_type": "code",
      "source": [
        "lr.coef_"
      ],
      "metadata": {
        "colab": {
          "base_uri": "https://localhost:8080/"
        },
        "id": "Mv-DXGKWAJ5D",
        "outputId": "17a3cba8-d56f-4e6b-f8b2-eff5a1edf0cd"
      },
      "execution_count": null,
      "outputs": [
        {
          "output_type": "execute_result",
          "data": {
            "text/plain": [
              "array([-5.70206143e+00, -1.25679916e+00,  8.27341833e+01, -1.44906911e+01,\n",
              "        5.75662723e+01,  1.88468905e-01, -1.72593897e+00, -4.51058311e+00,\n",
              "       -2.22589244e+00, -4.28978455e+00, -2.44590976e+00,  5.40246226e-01,\n",
              "       -1.03633400e+00,  1.43064873e+00, -6.25029424e-02, -1.51548783e+00,\n",
              "       -2.14422789e-01,  2.16244155e+00, -1.48710228e+00,  1.95250816e+00,\n",
              "       -3.10761125e+00, -1.28138668e+00, -1.01367155e+00,  1.37968545e-02,\n",
              "        1.10383858e+00,  1.26497611e+00, -3.52405517e+00, -1.21398741e+00,\n",
              "       -5.04622019e-01,  1.46299181e+00, -5.50064233e-01, -8.46468162e-02,\n",
              "        6.84882188e-01, -1.39849820e+00, -1.94761710e-02, -1.57716300e+00,\n",
              "        4.20886278e-01,  8.03443207e-01,  2.99182164e+00,  3.86430413e-03,\n",
              "        1.05037261e-01,  2.89115612e-01, -3.16916626e-01,  1.05625868e+00,\n",
              "       -1.39649279e+00, -3.10533604e+00,  1.01764011e-01, -7.49672917e-02,\n",
              "       -8.03271555e-01, -1.27061856e+00, -8.54046164e-01,  2.64566484e-01,\n",
              "        9.10688839e-01, -8.23059458e-01, -9.07215234e-01,  1.22059216e+00,\n",
              "        2.11418894e+00, -5.38187400e-01, -1.32164338e+00, -8.28349340e-01,\n",
              "        1.28167980e+00, -1.92911295e-01,  6.65824485e-02,  3.65563139e-02,\n",
              "       -1.85069853e+00,  1.49068024e+00, -9.57964753e-01, -9.36110163e-01,\n",
              "       -7.45634897e-01,  7.22643165e-02, -6.79260144e-01, -1.70853833e-01,\n",
              "       -1.72288643e+00, -1.15833746e+00,  5.78931788e-01,  1.37836966e+00,\n",
              "       -1.14424496e+00,  3.96188294e-01, -6.08013157e-01, -2.20959218e+00,\n",
              "        3.45270810e-01,  1.01747431e-03,  1.06563895e-01,  3.04728530e+00,\n",
              "        2.09496392e+00, -8.13481923e-01, -4.18437282e-01,  2.30993396e+00,\n",
              "        3.31858800e-02,  8.07865914e-02,  5.37064987e-02,  1.55347699e+00,\n",
              "        8.13889657e-01, -1.14636462e+00,  3.41805788e-01, -8.28022037e-01,\n",
              "        1.68897360e+00,  2.97657524e-01,  9.59437517e-01,  4.57297702e-01,\n",
              "       -2.22729515e-01, -1.48290835e+00, -6.26342867e-01,  5.86538254e-01,\n",
              "       -1.78547310e+00,  2.19020231e-01, -3.45032599e-01])"
            ]
          },
          "metadata": {},
          "execution_count": 12
        }
      ]
    },
    {
      "cell_type": "code",
      "source": [
        "lr.intercept_"
      ],
      "metadata": {
        "colab": {
          "base_uri": "https://localhost:8080/"
        },
        "id": "mECWRVkvE8cF",
        "outputId": "082686e1-588a-4d7c-b258-1b4e491038d8"
      },
      "execution_count": null,
      "outputs": [
        {
          "output_type": "execute_result",
          "data": {
            "text/plain": [
              "95.0802729985955"
            ]
          },
          "metadata": {},
          "execution_count": 13
        }
      ]
    },
    {
      "cell_type": "markdown",
      "source": [
        "##Predict the value of Home and Predict"
      ],
      "metadata": {
        "id": "Xm8hRPn4FIAz"
      }
    },
    {
      "cell_type": "code",
      "source": [
        "X_test[0,:]"
      ],
      "metadata": {
        "colab": {
          "base_uri": "https://localhost:8080/"
        },
        "id": "Ri4JrnZRFCHQ",
        "outputId": "8522c374-9f78-45a5-912e-64500fb24485"
      },
      "execution_count": null,
      "outputs": [
        {
          "output_type": "execute_result",
          "data": {
            "text/plain": [
              "array([ 0.71301986,  0.0112734 ,  0.30202307,  0.65677518, -0.48064341,\n",
              "       -1.7385623 ,  2.11587407, -0.25430867,  0.51007548, -0.18373025,\n",
              "       -0.16389438, -0.1473229 , -0.13023539, -0.12812824, -0.12598816,\n",
              "       -0.12454231, -0.12953656, -0.12381344, -0.12010681, -0.11551113,\n",
              "       -0.10992018, -0.10909925, -0.10660036, -0.11234866, -0.09315135,\n",
              "       -0.08618799, -0.08923672, -0.09023078, -0.08721571, -0.09023078,\n",
              "       -0.08721571, -0.08195215, -0.08195215, -0.07633675, -0.0751646 ,\n",
              "       -0.08085949, -0.0739743 , -0.07975227, -0.07153563, -0.0751646 ,\n",
              "       -0.0677166 , -0.08085949, -0.07153563, -0.07862985, -0.0751646 ,\n",
              "       -0.07862985, -0.06504853, -0.0751646 , -0.06901264, -0.0751646 ,\n",
              "       -0.06901264, -0.07028523, -0.07276497, -0.07028523, -0.06367332,\n",
              "       -0.06226825, -0.06226825, -0.06639573, -0.06504853, -0.05935999,\n",
              "       -0.06083125, -0.06639573, -0.06639573, -0.06226825, -0.06367332,\n",
              "       -0.05935999, -0.06639573, -0.06367332, -0.06226825, -0.06226825,\n",
              "       -0.05935999, -0.05935999, -0.05935999, -0.05630391, -0.05935999,\n",
              "       -0.05785186, -0.05935999, -0.05935999, -0.06083125, -0.06083125,\n",
              "       -0.05471275, -0.06083125, -0.06226825, -0.05935999, -0.05935999,\n",
              "       -0.06226825, -0.06226825, -0.05785186, -0.06504853, -0.06226825,\n",
              "       -0.06083125, -0.05935999, -0.05307449, -0.05630391, -0.06226825,\n",
              "       -0.05471275, -0.05935999, -0.05471275, -0.05471275, -0.05138463,\n",
              "       -0.05307449, -0.05307449, -0.05471275, -0.05471275, -0.05630391,\n",
              "       -0.05630391, -0.05138463])"
            ]
          },
          "metadata": {},
          "execution_count": 14
        }
      ]
    },
    {
      "cell_type": "code",
      "source": [
        "lr.predict([X_test[0,:]])"
      ],
      "metadata": {
        "colab": {
          "base_uri": "https://localhost:8080/"
        },
        "id": "VtpzF4JVFWkO",
        "outputId": "c1b3d4cd-bfcd-413a-a786-6a3429161d22"
      },
      "execution_count": null,
      "outputs": [
        {
          "output_type": "execute_result",
          "data": {
            "text/plain": [
              "array([76.90661876])"
            ]
          },
          "metadata": {},
          "execution_count": 15
        }
      ]
    },
    {
      "cell_type": "code",
      "source": [
        "lr.predict(X_test)"
      ],
      "metadata": {
        "colab": {
          "base_uri": "https://localhost:8080/"
        },
        "id": "tB-_LWEYFfYn",
        "outputId": "72c9da27-bc54-4889-e3d7-4f9f19ad4e32"
      },
      "execution_count": null,
      "outputs": [
        {
          "output_type": "execute_result",
          "data": {
            "text/plain": [
              "array([ 76.90661876,  15.25005377, 113.6828165 , ...,  21.30296864,\n",
              "        71.43462962, 230.0414626 ])"
            ]
          },
          "metadata": {},
          "execution_count": 16
        }
      ]
    },
    {
      "cell_type": "code",
      "source": [
        "Y_test.head()"
      ],
      "metadata": {
        "colab": {
          "base_uri": "https://localhost:8080/"
        },
        "id": "uRcVMLZlFqkq",
        "outputId": "7e6885df-70ef-4b32-ff3f-647a90288699"
      },
      "execution_count": null,
      "outputs": [
        {
          "output_type": "execute_result",
          "data": {
            "text/plain": [
              "2435     80.0\n",
              "3113     40.0\n",
              "426     120.0\n",
              "1124     79.0\n",
              "1161     45.0\n",
              "Name: price, dtype: float64"
            ]
          },
          "metadata": {},
          "execution_count": 17
        }
      ]
    },
    {
      "cell_type": "code",
      "source": [
        "lr.score(X_test,Y_test)"
      ],
      "metadata": {
        "colab": {
          "base_uri": "https://localhost:8080/"
        },
        "id": "vRFz_IyqFvO7",
        "outputId": "08dd7289-c2e4-4a52-fe5b-899cef64aab6"
      },
      "execution_count": null,
      "outputs": [
        {
          "output_type": "execute_result",
          "data": {
            "text/plain": [
              "0.790383709268225"
            ]
          },
          "metadata": {},
          "execution_count": 18
        }
      ]
    },
    {
      "cell_type": "markdown",
      "source": [
        "#Implementing Ridge and Lasso Regression"
      ],
      "metadata": {
        "id": "h9CBdl5kH31i"
      }
    },
    {
      "cell_type": "code",
      "source": [
        "from sklearn.linear_model import Ridge,Lasso"
      ],
      "metadata": {
        "id": "NJ-bwkRkF7lN"
      },
      "execution_count": null,
      "outputs": []
    },
    {
      "cell_type": "markdown",
      "source": [
        "Ridge"
      ],
      "metadata": {
        "id": "F7EIYE8KLn5d"
      }
    },
    {
      "cell_type": "code",
      "source": [
        "rd = Ridge()\n",
        "\n",
        "rd.fit(X_train,Y_train)\n",
        "\n",
        "rd.score(X_test,Y_test)"
      ],
      "metadata": {
        "colab": {
          "base_uri": "https://localhost:8080/"
        },
        "id": "AC12Z_h_KdjX",
        "outputId": "f90cfb57-dda2-4c40-d1fb-54a6c8a1c260"
      },
      "execution_count": null,
      "outputs": [
        {
          "output_type": "execute_result",
          "data": {
            "text/plain": [
              "0.7905686374336628"
            ]
          },
          "metadata": {},
          "execution_count": 20
        }
      ]
    },
    {
      "cell_type": "markdown",
      "source": [
        "Lasso"
      ],
      "metadata": {
        "id": "NOAJ4MeJLpdZ"
      }
    },
    {
      "cell_type": "code",
      "source": [
        "ls = Lasso()\n",
        "\n",
        "ls.fit(X_train,Y_train)\n",
        "\n",
        "ls.score(X_test,Y_test)"
      ],
      "metadata": {
        "colab": {
          "base_uri": "https://localhost:8080/"
        },
        "id": "Ml92GfUoK4FQ",
        "outputId": "8424f5a5-e29a-4839-8ba8-8b1c5541b3eb"
      },
      "execution_count": null,
      "outputs": [
        {
          "output_type": "execute_result",
          "data": {
            "text/plain": [
              "0.8036373003525774"
            ]
          },
          "metadata": {},
          "execution_count": 21
        }
      ]
    },
    {
      "cell_type": "code",
      "source": [
        "rd2 = Ridge(alpha= 2)\n",
        "\n",
        "rd2.fit(X_train,Y_train)\n",
        "\n",
        "rd2.score(X_test,Y_test)"
      ],
      "metadata": {
        "colab": {
          "base_uri": "https://localhost:8080/"
        },
        "id": "khQDkG9QLKhB",
        "outputId": "df1a5970-fb4b-49a7-d707-af99531f3585"
      },
      "execution_count": null,
      "outputs": [
        {
          "output_type": "execute_result",
          "data": {
            "text/plain": [
              "0.7907530260397942"
            ]
          },
          "metadata": {},
          "execution_count": 22
        }
      ]
    },
    {
      "cell_type": "code",
      "source": [
        "ls2 = Lasso(alpha=2)\n",
        "\n",
        "ls2.fit(X_train,Y_train)\n",
        "\n",
        "ls2.score(X_test,Y_test)"
      ],
      "metadata": {
        "colab": {
          "base_uri": "https://localhost:8080/"
        },
        "id": "VwqLBptcLyL-",
        "outputId": "1ff885cc-983a-4d56-fdb4-eb665fda472e"
      },
      "execution_count": null,
      "outputs": [
        {
          "output_type": "execute_result",
          "data": {
            "text/plain": [
              "0.8160181533703601"
            ]
          },
          "metadata": {},
          "execution_count": 23
        }
      ]
    },
    {
      "cell_type": "code",
      "source": [
        "ls3 = Lasso(alpha=3)\n",
        "\n",
        "ls3.fit(X_train,Y_train)\n",
        "\n",
        "ls3.score(X_test,Y_test)"
      ],
      "metadata": {
        "colab": {
          "base_uri": "https://localhost:8080/"
        },
        "id": "PBGfUc92L7lV",
        "outputId": "dd2745bc-0a0a-4324-a698-0ce647ae8d5b"
      },
      "execution_count": null,
      "outputs": [
        {
          "output_type": "execute_result",
          "data": {
            "text/plain": [
              "0.8263450613017426"
            ]
          },
          "metadata": {},
          "execution_count": 24
        }
      ]
    },
    {
      "cell_type": "markdown",
      "source": [
        "#Model Evaluation"
      ],
      "metadata": {
        "id": "BTGMqNq1SlUx"
      }
    },
    {
      "cell_type": "markdown",
      "source": [
        "##Root Mean Square Error"
      ],
      "metadata": {
        "id": "JVU9EWlUSpfb"
      }
    },
    {
      "cell_type": "code",
      "source": [
        "Y_pred = lr.predict(X_test)\n",
        "Y_pred"
      ],
      "metadata": {
        "colab": {
          "base_uri": "https://localhost:8080/"
        },
        "id": "TM4sESAhMBPH",
        "outputId": "c58dbb99-eb1e-47e0-e022-1f95035432e5"
      },
      "execution_count": null,
      "outputs": [
        {
          "output_type": "execute_result",
          "data": {
            "text/plain": [
              "array([ 76.90661876,  15.25005377, 113.6828165 , ...,  21.30296864,\n",
              "        71.43462962, 230.0414626 ])"
            ]
          },
          "metadata": {},
          "execution_count": 25
        }
      ]
    },
    {
      "cell_type": "code",
      "source": [
        "Y_test.head()"
      ],
      "metadata": {
        "colab": {
          "base_uri": "https://localhost:8080/"
        },
        "id": "P9CnkEqaTKEG",
        "outputId": "b7b1d2eb-4b15-4f0e-c5fb-9c82cecfcbec"
      },
      "execution_count": null,
      "outputs": [
        {
          "output_type": "execute_result",
          "data": {
            "text/plain": [
              "2435     80.0\n",
              "3113     40.0\n",
              "426     120.0\n",
              "1124     79.0\n",
              "1161     45.0\n",
              "Name: price, dtype: float64"
            ]
          },
          "metadata": {},
          "execution_count": 26
        }
      ]
    },
    {
      "cell_type": "code",
      "source": [
        "from sklearn.metrics import mean_squared_error\n",
        "import numpy as np"
      ],
      "metadata": {
        "id": "8VDIMssMTO7i"
      },
      "execution_count": null,
      "outputs": []
    },
    {
      "cell_type": "code",
      "source": [
        "mse = mean_squared_error(Y_test,Y_pred)\n",
        "rmse = np.sqrt(mse)\n",
        "\n",
        "print(\"Mean_squared_error\" , mse)\n",
        "print(\"Root mean squared error \", rmse)"
      ],
      "metadata": {
        "colab": {
          "base_uri": "https://localhost:8080/"
        },
        "id": "SygJ8PRTVKof",
        "outputId": "6573e749-aa69-48fe-ad93-d0aa2b834318"
      },
      "execution_count": null,
      "outputs": [
        {
          "output_type": "stream",
          "name": "stdout",
          "text": [
            "Mean_squared_error 4211.806905823333\n",
            "Root mean squared error  64.8984353110561\n"
          ]
        }
      ]
    },
    {
      "cell_type": "markdown",
      "source": [
        "# R Square"
      ],
      "metadata": {
        "id": "6YzZ7qKahyLz"
      }
    },
    {
      "cell_type": "code",
      "source": [
        "from sklearn.metrics import r2_score"
      ],
      "metadata": {
        "id": "_avT56EEVxCq"
      },
      "execution_count": null,
      "outputs": []
    },
    {
      "cell_type": "code",
      "source": [
        "r2_score(Y_test,Y_pred)"
      ],
      "metadata": {
        "colab": {
          "base_uri": "https://localhost:8080/"
        },
        "id": "5jYd_es6iJyK",
        "outputId": "cfe04d79-6664-4c04-8667-13c7606f0378"
      },
      "execution_count": null,
      "outputs": [
        {
          "output_type": "execute_result",
          "data": {
            "text/plain": [
              "0.790383709268225"
            ]
          },
          "metadata": {},
          "execution_count": 30
        }
      ]
    },
    {
      "cell_type": "code",
      "source": [],
      "metadata": {
        "id": "t3-F7zD6iRbr"
      },
      "execution_count": null,
      "outputs": []
    }
  ]
}